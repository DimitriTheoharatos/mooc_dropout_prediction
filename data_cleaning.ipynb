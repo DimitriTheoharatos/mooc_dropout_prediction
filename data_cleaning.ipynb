{
 "cells": [
  {
   "cell_type": "code",
   "execution_count": 3,
   "metadata": {},
   "outputs": [],
   "source": [
    "import pandas as pd\n",
    "import numpy  as np\n",
    "from pprint import pprint\n"
   ]
  },
  {
   "cell_type": "markdown",
   "metadata": {},
   "source": [
    "## Goal\n",
    "\n",
    "*To predict whether or not a student will get certified/explore their course based on features about that individual.*"
   ]
  },
  {
   "cell_type": "markdown",
   "metadata": {},
   "source": [
    "In this project, I aim to classify whether or not an individual will explore an MOOC or will be certified. I am only going to include individuals that actually viewed the course content- not just registered for the course. This is because several individuals simply registered for tens of courses without ever viewing the content, and this will distort the efficacy of our model. \n",
    "\n",
    "The target variable, explored,  refers to the notion that the individual accessed at least half of the chapters of the offered course.  It also includes people that finished the course and were certified. \n",
    "\n",
    "I am choosing this as my target variable for two reasons:\n",
    "\n",
    "1. Students often do not plan on becoming certified with MOOCs, so exploring extensively is a good proxy for engaged learning.   \n",
    "\n",
    "2. The class imbalance of certified (95-5 split) is a bit infeasible. "
   ]
  },
  {
   "cell_type": "markdown",
   "metadata": {},
   "source": [
    "### Column Description\n",
    "\n",
    "`course_id`: the course identifier.   \n",
    "`userid_DI`: the user identifier.      \n",
    "`registered`: whether the user registered for the course.   \n",
    "`viewed`: anyone who accessed the 'Courseware tab' in the edX platform.   \n",
    "`explored`: anyone who accessed at least half of the chapters in the courseware.    \n",
    "`certified`: anyone who earned a certificate.    \n",
    "`final_cc_cname_DI`: country name or continent/region name.    \n",
    "`LoE`: highest level of education.    \n",
    "`YoB`: year of birth.    \n",
    "`gender`: male, female, or other.    \n",
    "`grade`: final grade in the course.    \n",
    "`start_time_DI:` date of course registration   \n",
    "`last_event_DI:` date of last interaction in course. Blank if none beyond registration.    \n",
    "`nevents`: number of interactions with the course (blank if done beyond registration).    \n",
    "`ndays_act`: number of unique days student interacted with the course.    \n",
    "`nplay_video`: number of play video events.   \n",
    "`nchapters`: number of chapters within the Courseware with which the students interacted.   \n",
    "`nforum_posts`: number of posts to the discussion forum.    \n",
    "`roles`:  identifies staff and instructors.   \n",
    "`incomplete flag`: identifies records that are internally inconsistent.  This includes missing tracking logs. "
   ]
  },
  {
   "cell_type": "markdown",
   "metadata": {},
   "source": [
    "# Data Cleaning"
   ]
  },
  {
   "cell_type": "code",
   "execution_count": 36,
   "metadata": {},
   "outputs": [],
   "source": [
    "data = pd.read_csv('data/HMXPC13_DI_v2_5-14-14.csv')"
   ]
  },
  {
   "cell_type": "code",
   "execution_count": 5,
   "metadata": {},
   "outputs": [
    {
     "data": {
      "text/html": [
       "<div>\n",
       "<style scoped>\n",
       "    .dataframe tbody tr th:only-of-type {\n",
       "        vertical-align: middle;\n",
       "    }\n",
       "\n",
       "    .dataframe tbody tr th {\n",
       "        vertical-align: top;\n",
       "    }\n",
       "\n",
       "    .dataframe thead th {\n",
       "        text-align: right;\n",
       "    }\n",
       "</style>\n",
       "<table border=\"1\" class=\"dataframe\">\n",
       "  <thead>\n",
       "    <tr style=\"text-align: right;\">\n",
       "      <th></th>\n",
       "      <th>course_id</th>\n",
       "      <th>userid_DI</th>\n",
       "      <th>registered</th>\n",
       "      <th>viewed</th>\n",
       "      <th>explored</th>\n",
       "      <th>certified</th>\n",
       "      <th>final_cc_cname_DI</th>\n",
       "      <th>LoE_DI</th>\n",
       "      <th>YoB</th>\n",
       "      <th>gender</th>\n",
       "      <th>grade</th>\n",
       "      <th>start_time_DI</th>\n",
       "      <th>last_event_DI</th>\n",
       "      <th>nevents</th>\n",
       "      <th>ndays_act</th>\n",
       "      <th>nplay_video</th>\n",
       "      <th>nchapters</th>\n",
       "      <th>nforum_posts</th>\n",
       "      <th>roles</th>\n",
       "      <th>incomplete_flag</th>\n",
       "    </tr>\n",
       "  </thead>\n",
       "  <tbody>\n",
       "    <tr>\n",
       "      <th>0</th>\n",
       "      <td>HarvardX/CB22x/2013_Spring</td>\n",
       "      <td>MHxPC130442623</td>\n",
       "      <td>1</td>\n",
       "      <td>0</td>\n",
       "      <td>0</td>\n",
       "      <td>0</td>\n",
       "      <td>United States</td>\n",
       "      <td>NaN</td>\n",
       "      <td>NaN</td>\n",
       "      <td>NaN</td>\n",
       "      <td>0</td>\n",
       "      <td>2012-12-19</td>\n",
       "      <td>2013-11-17</td>\n",
       "      <td>NaN</td>\n",
       "      <td>9.0</td>\n",
       "      <td>NaN</td>\n",
       "      <td>NaN</td>\n",
       "      <td>0</td>\n",
       "      <td>NaN</td>\n",
       "      <td>1.0</td>\n",
       "    </tr>\n",
       "    <tr>\n",
       "      <th>1</th>\n",
       "      <td>HarvardX/CS50x/2012</td>\n",
       "      <td>MHxPC130442623</td>\n",
       "      <td>1</td>\n",
       "      <td>1</td>\n",
       "      <td>0</td>\n",
       "      <td>0</td>\n",
       "      <td>United States</td>\n",
       "      <td>NaN</td>\n",
       "      <td>NaN</td>\n",
       "      <td>NaN</td>\n",
       "      <td>0</td>\n",
       "      <td>2012-10-15</td>\n",
       "      <td>NaN</td>\n",
       "      <td>NaN</td>\n",
       "      <td>9.0</td>\n",
       "      <td>NaN</td>\n",
       "      <td>1.0</td>\n",
       "      <td>0</td>\n",
       "      <td>NaN</td>\n",
       "      <td>1.0</td>\n",
       "    </tr>\n",
       "  </tbody>\n",
       "</table>\n",
       "</div>"
      ],
      "text/plain": [
       "                    course_id       userid_DI  registered  viewed  explored  \\\n",
       "0  HarvardX/CB22x/2013_Spring  MHxPC130442623           1       0         0   \n",
       "1         HarvardX/CS50x/2012  MHxPC130442623           1       1         0   \n",
       "\n",
       "   certified final_cc_cname_DI LoE_DI  YoB gender grade start_time_DI  \\\n",
       "0          0     United States    NaN  NaN    NaN     0    2012-12-19   \n",
       "1          0     United States    NaN  NaN    NaN     0    2012-10-15   \n",
       "\n",
       "  last_event_DI  nevents  ndays_act  nplay_video  nchapters  nforum_posts  \\\n",
       "0    2013-11-17      NaN        9.0          NaN        NaN             0   \n",
       "1           NaN      NaN        9.0          NaN        1.0             0   \n",
       "\n",
       "   roles  incomplete_flag  \n",
       "0    NaN              1.0  \n",
       "1    NaN              1.0  "
      ]
     },
     "execution_count": 5,
     "metadata": {},
     "output_type": "execute_result"
    }
   ],
   "source": [
    "data.head(2)"
   ]
  },
  {
   "cell_type": "code",
   "execution_count": 6,
   "metadata": {},
   "outputs": [],
   "source": [
    "def check_proportion_nas(df):\n",
    "    return sorted([(column, round(df[column].isna().mean(), 3)) for column in df.columns],\\\n",
    "                  key = lambda x:x[1])\n",
    "    \n",
    "        "
   ]
  },
  {
   "cell_type": "code",
   "execution_count": 7,
   "metadata": {},
   "outputs": [
    {
     "data": {
      "text/plain": [
       "[('course_id', 0.0),\n",
       " ('userid_DI', 0.0),\n",
       " ('registered', 0.0),\n",
       " ('viewed', 0.0),\n",
       " ('explored', 0.0),\n",
       " ('certified', 0.0),\n",
       " ('final_cc_cname_DI', 0.0),\n",
       " ('start_time_DI', 0.0),\n",
       " ('nforum_posts', 0.0),\n",
       " ('grade', 0.075),\n",
       " ('gender', 0.135),\n",
       " ('YoB', 0.151),\n",
       " ('LoE_DI', 0.165),\n",
       " ('ndays_act', 0.254),\n",
       " ('last_event_DI', 0.279),\n",
       " ('nevents', 0.311),\n",
       " ('nchapters', 0.404),\n",
       " ('nplay_video', 0.714),\n",
       " ('incomplete_flag', 0.844),\n",
       " ('roles', 1.0)]"
      ]
     },
     "execution_count": 7,
     "metadata": {},
     "output_type": "execute_result"
    }
   ],
   "source": [
    "check_proportion_nas(data)"
   ]
  },
  {
   "cell_type": "markdown",
   "metadata": {},
   "source": [
    "For several of the columns, the proportion of NA's is rather signficant.  The `role` is completely missing, so we will get rid of this.  The `incomplete_flag` has the next highest proportion, but this column simply denoted a clerical error when collecting the data, so we can safely get rid of it. "
   ]
  },
  {
   "cell_type": "markdown",
   "metadata": {},
   "source": [
    "Furthermore, I think it would be wise to drop a few more of these features since they are rather self-annotating. Basically, obviously if you have a high returned grade, then you would be certified.  Knowing this information will make the classification task much too simple. Let's focus more on demographic information. "
   ]
  },
  {
   "cell_type": "code",
   "execution_count": 8,
   "metadata": {},
   "outputs": [],
   "source": [
    "data.drop(columns = ['roles', 'nforum_posts', 'grade', 'ndays_act', \\\n",
    "                            'last_event_DI', 'nevents', 'nplay_video', 'incomplete_flag', \\\n",
    "                            'nchapters', 'registered'], axis = 1, inplace = True)"
   ]
  },
  {
   "cell_type": "code",
   "execution_count": 9,
   "metadata": {},
   "outputs": [],
   "source": [
    "data = data.dropna()\n",
    "data = data[data.viewed == 1]\n"
   ]
  },
  {
   "cell_type": "code",
   "execution_count": 10,
   "metadata": {},
   "outputs": [
    {
     "data": {
      "text/html": [
       "<div>\n",
       "<style scoped>\n",
       "    .dataframe tbody tr th:only-of-type {\n",
       "        vertical-align: middle;\n",
       "    }\n",
       "\n",
       "    .dataframe tbody tr th {\n",
       "        vertical-align: top;\n",
       "    }\n",
       "\n",
       "    .dataframe thead th {\n",
       "        text-align: right;\n",
       "    }\n",
       "</style>\n",
       "<table border=\"1\" class=\"dataframe\">\n",
       "  <thead>\n",
       "    <tr style=\"text-align: right;\">\n",
       "      <th></th>\n",
       "      <th>course_id</th>\n",
       "      <th>userid_DI</th>\n",
       "      <th>viewed</th>\n",
       "      <th>explored</th>\n",
       "      <th>certified</th>\n",
       "      <th>final_cc_cname_DI</th>\n",
       "      <th>LoE_DI</th>\n",
       "      <th>YoB</th>\n",
       "      <th>gender</th>\n",
       "      <th>start_time_DI</th>\n",
       "    </tr>\n",
       "  </thead>\n",
       "  <tbody>\n",
       "    <tr>\n",
       "      <th>154924</th>\n",
       "      <td>HarvardX/CS50x/2012</td>\n",
       "      <td>MHxPC130027283</td>\n",
       "      <td>1</td>\n",
       "      <td>0</td>\n",
       "      <td>0</td>\n",
       "      <td>United States</td>\n",
       "      <td>Secondary</td>\n",
       "      <td>1992.0</td>\n",
       "      <td>f</td>\n",
       "      <td>2013-07-12</td>\n",
       "    </tr>\n",
       "    <tr>\n",
       "      <th>154925</th>\n",
       "      <td>HarvardX/ER22x/2013_Spring</td>\n",
       "      <td>MHxPC130027283</td>\n",
       "      <td>1</td>\n",
       "      <td>0</td>\n",
       "      <td>0</td>\n",
       "      <td>United States</td>\n",
       "      <td>Secondary</td>\n",
       "      <td>1992.0</td>\n",
       "      <td>f</td>\n",
       "      <td>2013-07-31</td>\n",
       "    </tr>\n",
       "    <tr>\n",
       "      <th>154926</th>\n",
       "      <td>HarvardX/PH207x/2012_Fall</td>\n",
       "      <td>MHxPC130027283</td>\n",
       "      <td>1</td>\n",
       "      <td>0</td>\n",
       "      <td>0</td>\n",
       "      <td>United States</td>\n",
       "      <td>Secondary</td>\n",
       "      <td>1992.0</td>\n",
       "      <td>f</td>\n",
       "      <td>2013-07-12</td>\n",
       "    </tr>\n",
       "    <tr>\n",
       "      <th>154927</th>\n",
       "      <td>HarvardX/PH278x/2013_Spring</td>\n",
       "      <td>MHxPC130027283</td>\n",
       "      <td>1</td>\n",
       "      <td>0</td>\n",
       "      <td>0</td>\n",
       "      <td>United States</td>\n",
       "      <td>Secondary</td>\n",
       "      <td>1992.0</td>\n",
       "      <td>f</td>\n",
       "      <td>2013-07-31</td>\n",
       "    </tr>\n",
       "    <tr>\n",
       "      <th>486335</th>\n",
       "      <td>MITx/14.73x/2013_Spring</td>\n",
       "      <td>MHxPC130027283</td>\n",
       "      <td>1</td>\n",
       "      <td>0</td>\n",
       "      <td>0</td>\n",
       "      <td>United States</td>\n",
       "      <td>Secondary</td>\n",
       "      <td>1992.0</td>\n",
       "      <td>f</td>\n",
       "      <td>2013-07-12</td>\n",
       "    </tr>\n",
       "    <tr>\n",
       "      <th>486336</th>\n",
       "      <td>MITx/2.01x/2013_Spring</td>\n",
       "      <td>MHxPC130027283</td>\n",
       "      <td>1</td>\n",
       "      <td>0</td>\n",
       "      <td>0</td>\n",
       "      <td>United States</td>\n",
       "      <td>Secondary</td>\n",
       "      <td>1992.0</td>\n",
       "      <td>f</td>\n",
       "      <td>2013-07-31</td>\n",
       "    </tr>\n",
       "    <tr>\n",
       "      <th>486337</th>\n",
       "      <td>MITx/3.091x/2012_Fall</td>\n",
       "      <td>MHxPC130027283</td>\n",
       "      <td>1</td>\n",
       "      <td>0</td>\n",
       "      <td>0</td>\n",
       "      <td>United States</td>\n",
       "      <td>Secondary</td>\n",
       "      <td>1992.0</td>\n",
       "      <td>f</td>\n",
       "      <td>2013-07-12</td>\n",
       "    </tr>\n",
       "    <tr>\n",
       "      <th>486338</th>\n",
       "      <td>MITx/3.091x/2013_Spring</td>\n",
       "      <td>MHxPC130027283</td>\n",
       "      <td>1</td>\n",
       "      <td>0</td>\n",
       "      <td>0</td>\n",
       "      <td>United States</td>\n",
       "      <td>Secondary</td>\n",
       "      <td>1992.0</td>\n",
       "      <td>f</td>\n",
       "      <td>2013-07-12</td>\n",
       "    </tr>\n",
       "    <tr>\n",
       "      <th>486339</th>\n",
       "      <td>MITx/6.002x/2012_Fall</td>\n",
       "      <td>MHxPC130027283</td>\n",
       "      <td>1</td>\n",
       "      <td>0</td>\n",
       "      <td>0</td>\n",
       "      <td>United States</td>\n",
       "      <td>Secondary</td>\n",
       "      <td>1992.0</td>\n",
       "      <td>f</td>\n",
       "      <td>2013-07-12</td>\n",
       "    </tr>\n",
       "    <tr>\n",
       "      <th>486340</th>\n",
       "      <td>MITx/6.002x/2013_Spring</td>\n",
       "      <td>MHxPC130027283</td>\n",
       "      <td>1</td>\n",
       "      <td>0</td>\n",
       "      <td>0</td>\n",
       "      <td>United States</td>\n",
       "      <td>Secondary</td>\n",
       "      <td>1992.0</td>\n",
       "      <td>f</td>\n",
       "      <td>2013-07-12</td>\n",
       "    </tr>\n",
       "    <tr>\n",
       "      <th>486341</th>\n",
       "      <td>MITx/6.00x/2012_Fall</td>\n",
       "      <td>MHxPC130027283</td>\n",
       "      <td>1</td>\n",
       "      <td>0</td>\n",
       "      <td>0</td>\n",
       "      <td>United States</td>\n",
       "      <td>Secondary</td>\n",
       "      <td>1992.0</td>\n",
       "      <td>f</td>\n",
       "      <td>2013-07-12</td>\n",
       "    </tr>\n",
       "    <tr>\n",
       "      <th>486342</th>\n",
       "      <td>MITx/6.00x/2013_Spring</td>\n",
       "      <td>MHxPC130027283</td>\n",
       "      <td>1</td>\n",
       "      <td>0</td>\n",
       "      <td>0</td>\n",
       "      <td>United States</td>\n",
       "      <td>Secondary</td>\n",
       "      <td>1992.0</td>\n",
       "      <td>f</td>\n",
       "      <td>2013-07-12</td>\n",
       "    </tr>\n",
       "    <tr>\n",
       "      <th>486343</th>\n",
       "      <td>MITx/7.00x/2013_Spring</td>\n",
       "      <td>MHxPC130027283</td>\n",
       "      <td>1</td>\n",
       "      <td>0</td>\n",
       "      <td>0</td>\n",
       "      <td>United States</td>\n",
       "      <td>Secondary</td>\n",
       "      <td>1992.0</td>\n",
       "      <td>f</td>\n",
       "      <td>2013-07-11</td>\n",
       "    </tr>\n",
       "    <tr>\n",
       "      <th>486344</th>\n",
       "      <td>MITx/8.02x/2013_Spring</td>\n",
       "      <td>MHxPC130027283</td>\n",
       "      <td>1</td>\n",
       "      <td>0</td>\n",
       "      <td>0</td>\n",
       "      <td>United States</td>\n",
       "      <td>Secondary</td>\n",
       "      <td>1992.0</td>\n",
       "      <td>f</td>\n",
       "      <td>2013-07-08</td>\n",
       "    </tr>\n",
       "  </tbody>\n",
       "</table>\n",
       "</div>"
      ],
      "text/plain": [
       "                          course_id       userid_DI  viewed  explored  \\\n",
       "154924          HarvardX/CS50x/2012  MHxPC130027283       1         0   \n",
       "154925   HarvardX/ER22x/2013_Spring  MHxPC130027283       1         0   \n",
       "154926    HarvardX/PH207x/2012_Fall  MHxPC130027283       1         0   \n",
       "154927  HarvardX/PH278x/2013_Spring  MHxPC130027283       1         0   \n",
       "486335      MITx/14.73x/2013_Spring  MHxPC130027283       1         0   \n",
       "486336       MITx/2.01x/2013_Spring  MHxPC130027283       1         0   \n",
       "486337        MITx/3.091x/2012_Fall  MHxPC130027283       1         0   \n",
       "486338      MITx/3.091x/2013_Spring  MHxPC130027283       1         0   \n",
       "486339        MITx/6.002x/2012_Fall  MHxPC130027283       1         0   \n",
       "486340      MITx/6.002x/2013_Spring  MHxPC130027283       1         0   \n",
       "486341         MITx/6.00x/2012_Fall  MHxPC130027283       1         0   \n",
       "486342       MITx/6.00x/2013_Spring  MHxPC130027283       1         0   \n",
       "486343       MITx/7.00x/2013_Spring  MHxPC130027283       1         0   \n",
       "486344       MITx/8.02x/2013_Spring  MHxPC130027283       1         0   \n",
       "\n",
       "        certified final_cc_cname_DI     LoE_DI     YoB gender start_time_DI  \n",
       "154924          0     United States  Secondary  1992.0      f    2013-07-12  \n",
       "154925          0     United States  Secondary  1992.0      f    2013-07-31  \n",
       "154926          0     United States  Secondary  1992.0      f    2013-07-12  \n",
       "154927          0     United States  Secondary  1992.0      f    2013-07-31  \n",
       "486335          0     United States  Secondary  1992.0      f    2013-07-12  \n",
       "486336          0     United States  Secondary  1992.0      f    2013-07-31  \n",
       "486337          0     United States  Secondary  1992.0      f    2013-07-12  \n",
       "486338          0     United States  Secondary  1992.0      f    2013-07-12  \n",
       "486339          0     United States  Secondary  1992.0      f    2013-07-12  \n",
       "486340          0     United States  Secondary  1992.0      f    2013-07-12  \n",
       "486341          0     United States  Secondary  1992.0      f    2013-07-12  \n",
       "486342          0     United States  Secondary  1992.0      f    2013-07-12  \n",
       "486343          0     United States  Secondary  1992.0      f    2013-07-11  \n",
       "486344          0     United States  Secondary  1992.0      f    2013-07-08  "
      ]
     },
     "execution_count": 10,
     "metadata": {},
     "output_type": "execute_result"
    }
   ],
   "source": [
    "data[data.userid_DI == 'MHxPC130027283']"
   ]
  },
  {
   "cell_type": "markdown",
   "metadata": {},
   "source": [
    "Certain users viewed massive amounts of courses without exploring anything as shown above.  This will have a negative impact on our modeling capabilities since we are attempting to predict whether or not a user explored a course based on class information and demographic information.  Because of this, I am going to only include unique user ids, and also ensure that if they have explored a course, to ensure that entry is reflected in the data. "
   ]
  },
  {
   "cell_type": "code",
   "execution_count": 11,
   "metadata": {},
   "outputs": [],
   "source": [
    "#ensure we keep all explored, then only keep the first unique user\n",
    "data = data.sort_values(by=['explored', 'userid_DI'], ascending = False)\\\n",
    "                .drop_duplicates(subset = 'userid_DI', keep = 'first')\n"
   ]
  },
  {
   "cell_type": "code",
   "execution_count": 12,
   "metadata": {},
   "outputs": [
    {
     "data": {
      "text/plain": [
       "(274044, 10)"
      ]
     },
     "execution_count": 12,
     "metadata": {},
     "output_type": "execute_result"
    }
   ],
   "source": [
    "data.shape"
   ]
  },
  {
   "cell_type": "code",
   "execution_count": 13,
   "metadata": {
    "scrolled": true
   },
   "outputs": [
    {
     "data": {
      "text/html": [
       "<div>\n",
       "<style scoped>\n",
       "    .dataframe tbody tr th:only-of-type {\n",
       "        vertical-align: middle;\n",
       "    }\n",
       "\n",
       "    .dataframe tbody tr th {\n",
       "        vertical-align: top;\n",
       "    }\n",
       "\n",
       "    .dataframe thead th {\n",
       "        text-align: right;\n",
       "    }\n",
       "</style>\n",
       "<table border=\"1\" class=\"dataframe\">\n",
       "  <thead>\n",
       "    <tr style=\"text-align: right;\">\n",
       "      <th></th>\n",
       "      <th>course_id</th>\n",
       "      <th>userid_DI</th>\n",
       "      <th>viewed</th>\n",
       "      <th>explored</th>\n",
       "      <th>certified</th>\n",
       "      <th>final_cc_cname_DI</th>\n",
       "      <th>LoE_DI</th>\n",
       "      <th>YoB</th>\n",
       "      <th>gender</th>\n",
       "      <th>start_time_DI</th>\n",
       "    </tr>\n",
       "  </thead>\n",
       "  <tbody>\n",
       "    <tr>\n",
       "      <th>561489</th>\n",
       "      <td>MITx/14.73x/2013_Spring</td>\n",
       "      <td>MHxPC130597663</td>\n",
       "      <td>1</td>\n",
       "      <td>1</td>\n",
       "      <td>1</td>\n",
       "      <td>United States</td>\n",
       "      <td>Bachelor's</td>\n",
       "      <td>1958.0</td>\n",
       "      <td>f</td>\n",
       "      <td>2013-02-12</td>\n",
       "    </tr>\n",
       "    <tr>\n",
       "      <th>515309</th>\n",
       "      <td>MITx/14.73x/2013_Spring</td>\n",
       "      <td>MHxPC130597647</td>\n",
       "      <td>1</td>\n",
       "      <td>1</td>\n",
       "      <td>1</td>\n",
       "      <td>United States</td>\n",
       "      <td>Bachelor's</td>\n",
       "      <td>1987.0</td>\n",
       "      <td>f</td>\n",
       "      <td>2012-12-28</td>\n",
       "    </tr>\n",
       "  </tbody>\n",
       "</table>\n",
       "</div>"
      ],
      "text/plain": [
       "                      course_id       userid_DI  viewed  explored  certified  \\\n",
       "561489  MITx/14.73x/2013_Spring  MHxPC130597663       1         1          1   \n",
       "515309  MITx/14.73x/2013_Spring  MHxPC130597647       1         1          1   \n",
       "\n",
       "       final_cc_cname_DI      LoE_DI     YoB gender start_time_DI  \n",
       "561489     United States  Bachelor's  1958.0      f    2013-02-12  \n",
       "515309     United States  Bachelor's  1987.0      f    2012-12-28  "
      ]
     },
     "execution_count": 13,
     "metadata": {},
     "output_type": "execute_result"
    }
   ],
   "source": [
    "data.head(2)"
   ]
  },
  {
   "cell_type": "code",
   "execution_count": 14,
   "metadata": {},
   "outputs": [],
   "source": [
    "data['explored/cert'] = data.explored | data.certified\n"
   ]
  },
  {
   "cell_type": "markdown",
   "metadata": {},
   "source": [
    "There are only 4 out of our nearly 300,000 samples that consider themselves as \"other\" for their gender so I will drop them for this model."
   ]
  },
  {
   "cell_type": "code",
   "execution_count": 15,
   "metadata": {},
   "outputs": [],
   "source": [
    "data = data[data.gender!='o']"
   ]
  },
  {
   "cell_type": "code",
   "execution_count": 16,
   "metadata": {},
   "outputs": [
    {
     "data": {
      "text/plain": [
       "m    206740\n",
       "f     67300\n",
       "Name: gender, dtype: int64"
      ]
     },
     "execution_count": 16,
     "metadata": {},
     "output_type": "execute_result"
    }
   ],
   "source": [
    "data.gender.value_counts()"
   ]
  },
  {
   "cell_type": "code",
   "execution_count": 17,
   "metadata": {},
   "outputs": [],
   "source": [
    "data.set_index(np.arange(len(data)), inplace = True)"
   ]
  },
  {
   "cell_type": "code",
   "execution_count": 18,
   "metadata": {},
   "outputs": [
    {
     "data": {
      "text/html": [
       "<div>\n",
       "<style scoped>\n",
       "    .dataframe tbody tr th:only-of-type {\n",
       "        vertical-align: middle;\n",
       "    }\n",
       "\n",
       "    .dataframe tbody tr th {\n",
       "        vertical-align: top;\n",
       "    }\n",
       "\n",
       "    .dataframe thead th {\n",
       "        text-align: right;\n",
       "    }\n",
       "</style>\n",
       "<table border=\"1\" class=\"dataframe\">\n",
       "  <thead>\n",
       "    <tr style=\"text-align: right;\">\n",
       "      <th></th>\n",
       "      <th>course_id</th>\n",
       "      <th>userid_DI</th>\n",
       "      <th>viewed</th>\n",
       "      <th>explored</th>\n",
       "      <th>certified</th>\n",
       "      <th>final_cc_cname_DI</th>\n",
       "      <th>LoE_DI</th>\n",
       "      <th>YoB</th>\n",
       "      <th>gender</th>\n",
       "      <th>start_time_DI</th>\n",
       "      <th>explored/cert</th>\n",
       "    </tr>\n",
       "  </thead>\n",
       "  <tbody>\n",
       "    <tr>\n",
       "      <th>0</th>\n",
       "      <td>MITx/14.73x/2013_Spring</td>\n",
       "      <td>MHxPC130597663</td>\n",
       "      <td>1</td>\n",
       "      <td>1</td>\n",
       "      <td>1</td>\n",
       "      <td>United States</td>\n",
       "      <td>Bachelor's</td>\n",
       "      <td>1958.0</td>\n",
       "      <td>f</td>\n",
       "      <td>2013-02-12</td>\n",
       "      <td>1</td>\n",
       "    </tr>\n",
       "    <tr>\n",
       "      <th>1</th>\n",
       "      <td>MITx/14.73x/2013_Spring</td>\n",
       "      <td>MHxPC130597647</td>\n",
       "      <td>1</td>\n",
       "      <td>1</td>\n",
       "      <td>1</td>\n",
       "      <td>United States</td>\n",
       "      <td>Bachelor's</td>\n",
       "      <td>1987.0</td>\n",
       "      <td>f</td>\n",
       "      <td>2012-12-28</td>\n",
       "      <td>1</td>\n",
       "    </tr>\n",
       "  </tbody>\n",
       "</table>\n",
       "</div>"
      ],
      "text/plain": [
       "                 course_id       userid_DI  viewed  explored  certified  \\\n",
       "0  MITx/14.73x/2013_Spring  MHxPC130597663       1         1          1   \n",
       "1  MITx/14.73x/2013_Spring  MHxPC130597647       1         1          1   \n",
       "\n",
       "  final_cc_cname_DI      LoE_DI     YoB gender start_time_DI  explored/cert  \n",
       "0     United States  Bachelor's  1958.0      f    2013-02-12              1  \n",
       "1     United States  Bachelor's  1987.0      f    2012-12-28              1  "
      ]
     },
     "execution_count": 18,
     "metadata": {},
     "output_type": "execute_result"
    }
   ],
   "source": [
    "data.head(2)"
   ]
  },
  {
   "cell_type": "code",
   "execution_count": 19,
   "metadata": {},
   "outputs": [],
   "source": [
    "#let's clean up our courses so they are cleaner when we plot them\n",
    "\n",
    "#Harvard courses\n",
    "data['CS50X'] = data.course_id.apply(lambda x:  'CS50X' if 'CS' in x else '')\n",
    "data['HealthStat'] = data.course_id.apply(lambda x:  'HealthStat' if 'PH207' in x else '')\n",
    "data['HeroesX'] = data.course_id.apply(lambda x: 'HeroesX' if 'CB22' in x else '')\n",
    "data['JusticeX'] = data.course_id.apply(lambda x: 'JusticeX' if 'ER22' in x else '')\n",
    "data['HealthEnv'] = data.course_id.apply(lambda x:  'HealthEnv' if 'PH278' in x else '')\n",
    "\n",
    "\n",
    "#MIT courses\n",
    "data['CS-1'] = data.course_id.apply(lambda x: 'CS-1' if '6.00x/2012'  in x else '')\n",
    "data['CS-2'] = data.course_id.apply(lambda x: 'CS-2' if '6.00x/2013'  in x else '')\n",
    "data['Circuits-1'] = data.course_id.apply(lambda x: 'Circuits-1' if '6.002x/2012'  in x else '')\n",
    "data['Circuits-2'] = data.course_id.apply(lambda x: 'Circuits-2' if '6.002x/2013'  in x else '')\n",
    "data['SSChem-1'] = data.course_id.apply(lambda x: 'SSChem-1' if '3.091x/2012'  in x else '')\n",
    "data['SSChem-2'] = data.course_id.apply(lambda x: 'SSChem-2' if '3.091x/2013'  in x else '')\n",
    "data['Poverty'] = data.course_id.apply(lambda x: 'Poverty' if '14.73x'  in x else '')\n",
    "data['E&M'] = data.course_id.apply(lambda x: 'E&M' if '8.02x'  in x else '')\n",
    "data['Biology'] = data.course_id.apply(lambda x: 'Biology' if '7.00x'  in x else '')\n",
    "data['Structures'] = data.course_id.apply(lambda x: 'Structures' if '2.01x'  in x else '')\n",
    "data['MechRev'] = data.course_id.apply(lambda x: 'MechRev' if '8.MReV'  in x else '')\n",
    "\n"
   ]
  },
  {
   "cell_type": "code",
   "execution_count": 20,
   "metadata": {},
   "outputs": [],
   "source": [
    "data['course'] = data['CS50X'] + data['HealthStat'] + data['HeroesX']\\\n",
    "               + data['JusticeX'] + data['HealthEnv'] + data['CS-1'] \\\n",
    "               + data['CS-2'] + data['Circuits-1'] + data['Circuits-2'] \\\n",
    "               + data['SSChem-1'] + data['SSChem-2'] + data['Poverty'] \\\n",
    "               + data['E&M'] + data['Biology'] + data['Structures']\\\n",
    "               + data['MechRev']"
   ]
  },
  {
   "cell_type": "code",
   "execution_count": 21,
   "metadata": {},
   "outputs": [],
   "source": [
    "data.drop(columns= ['CS50X','HealthStat','HeroesX','JusticeX',\\\n",
    "                    'HealthEnv','CS-1','CS-2','Circuits-1',\\\n",
    "                    'Circuits-2','SSChem-1','SSChem-2' ,'Poverty'\\\n",
    "                    ,'E&M','Biology', 'Structures','MechRev'], inplace = True)"
   ]
  },
  {
   "cell_type": "markdown",
   "metadata": {},
   "source": [
    "Let's group each person's age into bins to extract more information from the groupings. "
   ]
  },
  {
   "cell_type": "code",
   "execution_count": 22,
   "metadata": {},
   "outputs": [],
   "source": [
    "#don't include 70s and older in order to avoid multicollinearity\n",
    "data['>=70'] = np.where(data.YoB <=1943, 1, 0)\n",
    "data['60s'] = np.where((data.YoB > 1943) & (data.YoB <= 1953), 1, 0)\n",
    "data['50s'] = np.where((data.YoB > 1953) & (data.YoB <= 1963), 1, 0)\n",
    "data['40s'] = np.where((data.YoB > 1963) & (data.YoB <= 1973), 1, 0)\n",
    "data['30s'] = np.where((data.YoB > 1973) & (data.YoB <= 1983), 1, 0)\n",
    "data['25_to_30'] = np.where((data.YoB > 1983) & (data.YoB <= 1988), 1, 0)\n",
    "data['20_to_25'] = np.where((data.YoB > 1988) & (data.YoB <= 1993), 1, 0)\n",
    "data['under_20'] = (np.where(data.YoB > 1993, 1, 0))\n",
    "data.drop(columns=['YoB'], inplace=True)"
   ]
  },
  {
   "cell_type": "code",
   "execution_count": 23,
   "metadata": {},
   "outputs": [],
   "source": [
    "data['month_started'] = data.start_time_DI.apply(lambda x: x.split('-')[1])\n",
    "data.drop(columns = ['start_time_DI'], inplace=True)"
   ]
  },
  {
   "cell_type": "code",
   "execution_count": 24,
   "metadata": {},
   "outputs": [],
   "source": [
    "# let's create a column to denote whether or not the class was taken from MIT or Harvard\n",
    "data['MIT'] = np.where(data.course_id.apply(lambda x: 'MIT' in x), 1, 0)"
   ]
  },
  {
   "cell_type": "markdown",
   "metadata": {},
   "source": [
    "Looking at the course id documentation, I notice that certain courses are repeats of each other, whereas other courses there is only one offering.  I would like to make a column to denote this distinction.  Furthermore, it may be worthwhile to group each course into a cluster of subjects, such as computer science, life science, physics, etc.  "
   ]
  },
  {
   "cell_type": "code",
   "execution_count": 25,
   "metadata": {},
   "outputs": [],
   "source": [
    "#note, I did not include one public health course to account for multicollinearity\n",
    "course_number = data.course_id.apply(lambda x : x.split('/')[1])\n",
    "data['cs'] = course_number.apply(lambda x: int(('CS' in x) or ('6.00x' in x)))\n",
    "data['social'] = course_number.apply(lambda x: int(('14.73x' in x) or ('ER22x' in x)))\n",
    "data['mechanics'] = course_number.apply(lambda x: int(('2.01x' in x) or ('MReV' in x)))\n",
    "data['electrical'] = course_number.apply(lambda x: int(('6.002x' in x) or ('8.02x' in x)))\n",
    "data['bio'] = course_number.apply(lambda x: int(('7.00x' in x)))\n",
    "data['public_health'] = course_number.apply(lambda x: int(('PH207' in x)))"
   ]
  },
  {
   "cell_type": "code",
   "execution_count": 26,
   "metadata": {},
   "outputs": [],
   "source": [
    "certified = data[data['explored/cert'] == 1]"
   ]
  },
  {
   "cell_type": "code",
   "execution_count": 28,
   "metadata": {},
   "outputs": [],
   "source": [
    "#store to toy around with in Plotly in another notebook\n",
    "data.to_csv('visualize.csv')"
   ]
  },
  {
   "cell_type": "markdown",
   "metadata": {},
   "source": [
    "## Prepare Model for Flask"
   ]
  },
  {
   "cell_type": "code",
   "execution_count": 32,
   "metadata": {},
   "outputs": [
    {
     "data": {
      "text/html": [
       "<div>\n",
       "<style scoped>\n",
       "    .dataframe tbody tr th:only-of-type {\n",
       "        vertical-align: middle;\n",
       "    }\n",
       "\n",
       "    .dataframe tbody tr th {\n",
       "        vertical-align: top;\n",
       "    }\n",
       "\n",
       "    .dataframe thead th {\n",
       "        text-align: right;\n",
       "    }\n",
       "</style>\n",
       "<table border=\"1\" class=\"dataframe\">\n",
       "  <thead>\n",
       "    <tr style=\"text-align: right;\">\n",
       "      <th></th>\n",
       "      <th>course_id</th>\n",
       "      <th>userid_DI</th>\n",
       "      <th>explored</th>\n",
       "      <th>certified</th>\n",
       "      <th>explored/cert</th>\n",
       "      <th>course</th>\n",
       "      <th>&gt;=70</th>\n",
       "      <th>60s</th>\n",
       "      <th>50s</th>\n",
       "      <th>40s</th>\n",
       "      <th>...</th>\n",
       "      <th>month_started_03</th>\n",
       "      <th>month_started_04</th>\n",
       "      <th>month_started_05</th>\n",
       "      <th>month_started_06</th>\n",
       "      <th>month_started_07</th>\n",
       "      <th>month_started_08</th>\n",
       "      <th>month_started_09</th>\n",
       "      <th>month_started_10</th>\n",
       "      <th>month_started_12</th>\n",
       "      <th>gender_f</th>\n",
       "    </tr>\n",
       "  </thead>\n",
       "  <tbody>\n",
       "    <tr>\n",
       "      <th>0</th>\n",
       "      <td>MITx/14.73x/2013_Spring</td>\n",
       "      <td>MHxPC130597663</td>\n",
       "      <td>1</td>\n",
       "      <td>1</td>\n",
       "      <td>1</td>\n",
       "      <td>Poverty</td>\n",
       "      <td>0</td>\n",
       "      <td>0</td>\n",
       "      <td>1</td>\n",
       "      <td>0</td>\n",
       "      <td>...</td>\n",
       "      <td>0</td>\n",
       "      <td>0</td>\n",
       "      <td>0</td>\n",
       "      <td>0</td>\n",
       "      <td>0</td>\n",
       "      <td>0</td>\n",
       "      <td>0</td>\n",
       "      <td>0</td>\n",
       "      <td>0</td>\n",
       "      <td>1</td>\n",
       "    </tr>\n",
       "    <tr>\n",
       "      <th>1</th>\n",
       "      <td>MITx/14.73x/2013_Spring</td>\n",
       "      <td>MHxPC130597647</td>\n",
       "      <td>1</td>\n",
       "      <td>1</td>\n",
       "      <td>1</td>\n",
       "      <td>Poverty</td>\n",
       "      <td>0</td>\n",
       "      <td>0</td>\n",
       "      <td>0</td>\n",
       "      <td>0</td>\n",
       "      <td>...</td>\n",
       "      <td>0</td>\n",
       "      <td>0</td>\n",
       "      <td>0</td>\n",
       "      <td>0</td>\n",
       "      <td>0</td>\n",
       "      <td>0</td>\n",
       "      <td>0</td>\n",
       "      <td>0</td>\n",
       "      <td>1</td>\n",
       "      <td>1</td>\n",
       "    </tr>\n",
       "    <tr>\n",
       "      <th>2</th>\n",
       "      <td>HarvardX/ER22x/2013_Spring</td>\n",
       "      <td>MHxPC130597622</td>\n",
       "      <td>1</td>\n",
       "      <td>0</td>\n",
       "      <td>1</td>\n",
       "      <td>JusticeX</td>\n",
       "      <td>0</td>\n",
       "      <td>0</td>\n",
       "      <td>0</td>\n",
       "      <td>0</td>\n",
       "      <td>...</td>\n",
       "      <td>0</td>\n",
       "      <td>0</td>\n",
       "      <td>0</td>\n",
       "      <td>1</td>\n",
       "      <td>0</td>\n",
       "      <td>0</td>\n",
       "      <td>0</td>\n",
       "      <td>0</td>\n",
       "      <td>0</td>\n",
       "      <td>0</td>\n",
       "    </tr>\n",
       "    <tr>\n",
       "      <th>3</th>\n",
       "      <td>HarvardX/CS50x/2012</td>\n",
       "      <td>MHxPC130597614</td>\n",
       "      <td>1</td>\n",
       "      <td>0</td>\n",
       "      <td>1</td>\n",
       "      <td>CS50X</td>\n",
       "      <td>0</td>\n",
       "      <td>0</td>\n",
       "      <td>0</td>\n",
       "      <td>0</td>\n",
       "      <td>...</td>\n",
       "      <td>0</td>\n",
       "      <td>0</td>\n",
       "      <td>0</td>\n",
       "      <td>0</td>\n",
       "      <td>0</td>\n",
       "      <td>0</td>\n",
       "      <td>1</td>\n",
       "      <td>0</td>\n",
       "      <td>0</td>\n",
       "      <td>0</td>\n",
       "    </tr>\n",
       "    <tr>\n",
       "      <th>4</th>\n",
       "      <td>MITx/6.002x/2013_Spring</td>\n",
       "      <td>MHxPC130597593</td>\n",
       "      <td>1</td>\n",
       "      <td>0</td>\n",
       "      <td>1</td>\n",
       "      <td>Circuits-2</td>\n",
       "      <td>0</td>\n",
       "      <td>0</td>\n",
       "      <td>0</td>\n",
       "      <td>0</td>\n",
       "      <td>...</td>\n",
       "      <td>0</td>\n",
       "      <td>0</td>\n",
       "      <td>0</td>\n",
       "      <td>0</td>\n",
       "      <td>0</td>\n",
       "      <td>0</td>\n",
       "      <td>0</td>\n",
       "      <td>0</td>\n",
       "      <td>0</td>\n",
       "      <td>0</td>\n",
       "    </tr>\n",
       "  </tbody>\n",
       "</table>\n",
       "<p>5 rows × 70 columns</p>\n",
       "</div>"
      ],
      "text/plain": [
       "                    course_id       userid_DI  explored  certified  \\\n",
       "0     MITx/14.73x/2013_Spring  MHxPC130597663         1          1   \n",
       "1     MITx/14.73x/2013_Spring  MHxPC130597647         1          1   \n",
       "2  HarvardX/ER22x/2013_Spring  MHxPC130597622         1          0   \n",
       "3         HarvardX/CS50x/2012  MHxPC130597614         1          0   \n",
       "4     MITx/6.002x/2013_Spring  MHxPC130597593         1          0   \n",
       "\n",
       "   explored/cert      course  >=70  60s  50s  40s    ...     month_started_03  \\\n",
       "0              1     Poverty     0    0    1    0    ...                    0   \n",
       "1              1     Poverty     0    0    0    0    ...                    0   \n",
       "2              1    JusticeX     0    0    0    0    ...                    0   \n",
       "3              1       CS50X     0    0    0    0    ...                    0   \n",
       "4              1  Circuits-2     0    0    0    0    ...                    0   \n",
       "\n",
       "   month_started_04  month_started_05  month_started_06  month_started_07  \\\n",
       "0                 0                 0                 0                 0   \n",
       "1                 0                 0                 0                 0   \n",
       "2                 0                 0                 1                 0   \n",
       "3                 0                 0                 0                 0   \n",
       "4                 0                 0                 0                 0   \n",
       "\n",
       "   month_started_08  month_started_09  month_started_10  month_started_12  \\\n",
       "0                 0                 0                 0                 0   \n",
       "1                 0                 0                 0                 1   \n",
       "2                 0                 0                 0                 0   \n",
       "3                 0                 1                 0                 0   \n",
       "4                 0                 0                 0                 0   \n",
       "\n",
       "   gender_f  \n",
       "0         1  \n",
       "1         1  \n",
       "2         0  \n",
       "3         0  \n",
       "4         0  \n",
       "\n",
       "[5 rows x 70 columns]"
      ]
     },
     "execution_count": 32,
     "metadata": {},
     "output_type": "execute_result"
    }
   ],
   "source": [
    "data.head()"
   ]
  },
  {
   "cell_type": "markdown",
   "metadata": {},
   "source": [
    "For my Flask application, I want to simplify my model so that it doesn't include every single feature.  This will make a more seamless integration without too many options for the user.  Let's prepare this data to export to a different csv. "
   ]
  },
  {
   "cell_type": "markdown",
   "metadata": {},
   "source": [
    "# Model Preparation"
   ]
  },
  {
   "cell_type": "code",
   "execution_count": 29,
   "metadata": {},
   "outputs": [],
   "source": [
    "#viewed is 1 in every single row, carries no additional information\n",
    "data.drop(columns = ['viewed'], axis = 1, inplace = True)"
   ]
  },
  {
   "cell_type": "code",
   "execution_count": 30,
   "metadata": {},
   "outputs": [],
   "source": [
    "data =  pd.get_dummies(data,\\\n",
    "        columns = [ 'final_cc_cname_DI', 'LoE_DI',\\\n",
    "                   'month_started', 'gender'])\\\n",
    "                  .drop(columns = ['gender_m'])"
   ]
  },
  {
   "cell_type": "code",
   "execution_count": 31,
   "metadata": {},
   "outputs": [],
   "source": [
    "data.drop(columns = ['final_cc_cname_DI_Unknown/Other', 'LoE_DI_Doctorate', \\\n",
    "                     'month_started_11'], inplace = True)"
   ]
  },
  {
   "cell_type": "markdown",
   "metadata": {},
   "source": [
    "Finally, we also do not need the userid when it comes to modeling nor do we need the specfic course title since I want this analysis to generalize to more than specific course titles.  We can then save our dataframe into a csv and start modeling using various classification algorithms. "
   ]
  },
  {
   "cell_type": "code",
   "execution_count": 33,
   "metadata": {},
   "outputs": [],
   "source": [
    "data.drop(columns = ['userid_DI', 'course_id'], inplace = True)"
   ]
  },
  {
   "cell_type": "code",
   "execution_count": 34,
   "metadata": {},
   "outputs": [],
   "source": [
    "data.to_csv('data/modeling_data.csv')"
   ]
  }
 ],
 "metadata": {
  "kernelspec": {
   "display_name": "Python 3",
   "language": "python",
   "name": "python3"
  },
  "language_info": {
   "codemirror_mode": {
    "name": "ipython",
    "version": 3
   },
   "file_extension": ".py",
   "mimetype": "text/x-python",
   "name": "python",
   "nbconvert_exporter": "python",
   "pygments_lexer": "ipython3",
   "version": "3.6.4"
  }
 },
 "nbformat": 4,
 "nbformat_minor": 2
}
